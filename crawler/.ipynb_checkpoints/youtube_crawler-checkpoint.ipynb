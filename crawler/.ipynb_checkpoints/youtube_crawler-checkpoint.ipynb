{
 "cells": [
  {
   "cell_type": "markdown",
   "metadata": {},
   "source": [
    "### Download Videos in a Specific Channel"
   ]
  },
  {
   "cell_type": "code",
   "execution_count": 1,
   "metadata": {},
   "outputs": [],
   "source": [
    "import youtube_dl\n",
    "import os"
   ]
  },
  {
   "cell_type": "code",
   "execution_count": null,
   "metadata": {},
   "outputs": [],
   "source": [
    "url = 'https://www.youtube.com/user/MIT/playlists'\n",
    "# template = '%(uploader)s/%(playlist)s/%(playlist_index)s - %(title)s.%(ext)s'\n",
    "cmd = [\"youtube-dl\",\"--skip-download\",\"--write-sub\",\n",
    "               \"--sub-lang\",'en',url]\n",
    "result = os.system(\" \".join(cmd))"
   ]
  },
  {
   "cell_type": "markdown",
   "metadata": {},
   "source": [
    "### From a List of Video IDs"
   ]
  },
  {
   "cell_type": "code",
   "execution_count": 124,
   "metadata": {},
   "outputs": [],
   "source": [
    "#ref https://github.com/ytdl-org/youtube-dl/blob/master/README.md#description\n",
    "def get_all_ccs(videos):\n",
    "    base_url = 'https://www.youtube.com/watch?v='\n",
    "    lang=\"en\"\n",
    "    for vid in videos:\n",
    "        print('--Downloading ' + vid)\n",
    "        url = base_url + vid\n",
    "        cmd = [\"youtube-dl\",\"-o\"\"--skip-download\",\"--write-sub\",\n",
    "               \"--sub-lang\",lang,url]\n",
    "        result = os.system(\" \".join(cmd))"
   ]
  },
  {
   "cell_type": "code",
   "execution_count": null,
   "metadata": {},
   "outputs": [],
   "source": [
    "for i, playlist in enumerate(playlists):\n",
    "    count_playlists += 1\n",
    "    print(f'{i} of {len(remainingPlaylists)}', end='\\r')\n",
    "    get_all_ccs(remainingPlaylists[playlist])"
   ]
  },
  {
   "cell_type": "code",
   "execution_count": 151,
   "metadata": {},
   "outputs": [
    {
     "data": {
      "text/plain": [
       "2614"
      ]
     },
     "execution_count": 151,
     "metadata": {},
     "output_type": "execute_result"
    }
   ],
   "source": [
    "filenames_vtt = [os.fsdecode(file) for file in os.listdir(os.getcwd()) if os.fsdecode(file).endswith(\".vtt\")]\n",
    "#Check file names\n",
    "len(filenames_vtt)"
   ]
  }
 ],
 "metadata": {
  "kernelspec": {
   "display_name": "Python 3",
   "language": "python",
   "name": "python3"
  },
  "language_info": {
   "codemirror_mode": {
    "name": "ipython",
    "version": 3
   },
   "file_extension": ".py",
   "mimetype": "text/x-python",
   "name": "python",
   "nbconvert_exporter": "python",
   "pygments_lexer": "ipython3",
   "version": "3.7.3"
  }
 },
 "nbformat": 4,
 "nbformat_minor": 2
}

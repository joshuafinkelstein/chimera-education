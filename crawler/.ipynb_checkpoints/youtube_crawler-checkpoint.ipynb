{
 "cells": [
  {
   "cell_type": "code",
   "execution_count": 99,
   "metadata": {},
   "outputs": [],
   "source": [
    "import json\n",
    "# import pandas as pd"
   ]
  },
  {
   "cell_type": "code",
   "execution_count": 71,
   "metadata": {},
   "outputs": [],
   "source": [
    "# with open('MITOCW_playlists.txt') as read_file:\n",
    "#     pages = json.load(read_file)\n",
    "\n",
    "# channelPlaylists = {}\n",
    "# # each results page (max 50 each)\n",
    "# for page in pages:\n",
    "#     # each playlist save the title, playlist id and description\n",
    "#     for item in page['items']:\n",
    "#         # playlist id: playlist metadata\n",
    "#         channelPlaylists[item['id']] = item['snippet']"
   ]
  },
  {
   "cell_type": "code",
   "execution_count": 72,
   "metadata": {},
   "outputs": [],
   "source": [
    "# output = json.dumps(channelPlaylists)\n",
    "# with open(\"MITOCW_playlists.json\", \"w\") as write_file:\n",
    "#     write_file.write(output)"
   ]
  },
  {
   "cell_type": "markdown",
   "metadata": {},
   "source": [
    "**Read in MIT OCW's YouTube Directory**"
   ]
  },
  {
   "cell_type": "code",
   "execution_count": 102,
   "metadata": {},
   "outputs": [],
   "source": [
    "with open('playlists.json') as read_file:\n",
    "    pages = json.load(read_file)\n",
    "\n",
    "channelPlaylists = {}\n",
    "i = 0\n",
    "for page in pages:\n",
    "    try:\n",
    "        channelPlaylists[page['playlist']] = []\n",
    "        for video in page['videos']:\n",
    "            channelPlaylists[page['playlist']].append(video['videoId'])\n",
    "    except:\n",
    "        break"
   ]
  },
  {
   "cell_type": "markdown",
   "metadata": {},
   "source": [
    "Remaining Videos"
   ]
  },
  {
   "cell_type": "code",
   "execution_count": 147,
   "metadata": {},
   "outputs": [
    {
     "name": "stdout",
     "output_type": "stream",
     "text": [
      "{'PLUl4u3cNGP60Zcz8LnCDFI8RPqRhJbb4L': ['YulNobAZgkA', '5s6rUYpVYjg', 'OCbC7fRsL7k', 'fFSii5VxO4I', 'xVZ-lIuIi7A', 'yHfFsuYGgaQ', '7Y3qcKzO_mY', 'U4zZhQz1Xqc', 'tmKD8T_Lm2I', 'Uux0VkKaoxY', 'DYJM_P4sG-c', 'qxBhW2DRnPg', 'BkCyJ6Nr7qU', '0AM6arPSszI', 'pgEFvhkEp-c', 'Kk7cc15gWF8', 'Tcv3_Gk1Ysg', 'yg3NGFpZr4w', 'FIef9sP-Yq8', 'oEBwIJZ3RNM', 'iGG9EG3SNz0', 'RWPfOV0CV5Y', '9lc7mxULRF0', 'UOoKUdjVP78', 'aY8iTiAfRzs', 'omqSBV--uQ4', 'GZzrMyY01tE', '41ee6EsHchA', 'papfq4sdC3w', '868odGqmB1E', 'gRlrh4lRapM', 'Ug0HxeKGC8s', 'a4Qtf5D0rso', 'MtK9rIbdlis', 'YT4ODWpKmGY', 'gXj4irGhxuo', 'BTru_P0ruYQ', '2N0OXAiX-BM', 'gX2y3PHMmnk', '8Uh0qSp_Vck', 'o10QADeeK04', 'ZzUkt-UQCX8', 'vK7T72HPQ10', 'VaBMK5JSz2I', 'YWxY6mZwRSQ', 'NjhuAak0jmM', '6CeljmHgd0w', 'KbAgNwrpUTw', 'G-5KHKrNPMs', 'zUHOeWom7qs'], 'PL21BCE50ABFF029F1': ['uc4xJsi99bk', 'l2SjUREZk0c', 'y_CA5btuoQk', 'Wj0oH3ehk18', '98X2TyxXQdU', 'Nv3C7q88MqA', 'CMbvq16z0gA', 'UsGBIfjUK7U', 'pWXh5t-37Qg', 'hV5af_07ToE', 'VOlbVNxyNfM', 'tMVwXglUp60', 'v1AQ8Yi3yB8', 'Bk5y6Elcy_Q', 'E7oR_JBgUzA', '13UPhn32Mjs', '1cejTnuMo1Y', 'LUdI4-YCIh8', 'zsKdRjP91Fs', 'ycO0Vn_w9Q0', 'QKXAd2PhZGY', 'bnhIRhnBa1A', 'bo8SFHppXZk', 'owkMzpN8WDc', 'apzEJCsycVM', 'LpW6zanbSf8', 'dGKvUUmMGoU', 'rUis1mSzwyA', 'e4cURLXGjrM', 'QEBkT-Pgqos', 'oTTo3qP0Z-I', 'al2lzKq4o5E', 'BSqNgPkeWIM', '19x213y_uk4', 'FK1n3TVQIhc', '2_7htv5eviM', 'zcuYFf5R0NU'], 'PL36EC6A6180271B0F': ['IKJJ1SiMbjg', 'CA7I2GLpgdo', 'U_dpm7SCIpg', 'wtyVfNC_5ms', 'p6isgsReWmI', 'YwKqzngTcLw', 'yg4M2xmY4bs', 'b7SDngGtNDs', 'FYJJHMLv9oM', '0oqHExM3_Ko', 'j9DVXVwVyc4']}\n"
     ]
    }
   ],
   "source": [
    "with open('remaining.txt') as read_file:\n",
    "    pages = json.load(read_file)\n",
    "\n",
    "remainingPlaylists = {}\n",
    "# each results page (max 50 each)\n",
    "for page in pages:\n",
    "    playlistId = page['items'][0]['snippet']['playlistId']\n",
    "    remainingPlaylists[playlistId] = []\n",
    "    for item in page['items']:\n",
    "        remainingPlaylists[playlistId].append(item['snippet']['resourceId']['videoId'])\n",
    "\n",
    "print(remainingPlaylists)"
   ]
  },
  {
   "cell_type": "markdown",
   "metadata": {},
   "source": [
    "**Authenticate and Access YouTube Data API**"
   ]
  },
  {
   "cell_type": "code",
   "execution_count": 74,
   "metadata": {},
   "outputs": [],
   "source": [
    "import os\n",
    "\n",
    "import google_auth_oauthlib.flow\n",
    "import googleapiclient.discovery\n",
    "import googleapiclient.errors\n",
    "\n",
    "scopes = [\"https://www.googleapis.com/auth/youtube.force-ssl\"]\n",
    "\n",
    "api_service_name = \"youtube\"\n",
    "api_version = \"v3\"\n",
    "client_secrets_file = \"client_secret.json\""
   ]
  },
  {
   "cell_type": "code",
   "execution_count": 75,
   "metadata": {},
   "outputs": [],
   "source": [
    "def auth_api():\n",
    "    os.environ[\"OAUTHLIB_INSECURE_TRANSPORT\"] = \"1\"\n",
    "\n",
    "    # Get credentials and create an API client\n",
    "    flow = google_auth_oauthlib.flow.InstalledAppFlow.from_client_secrets_file(\n",
    "        client_secrets_file, scopes)\n",
    "    credentials = flow.run_console()\n",
    "    \n",
    "    return credentials"
   ]
  },
  {
   "cell_type": "code",
   "execution_count": 76,
   "metadata": {},
   "outputs": [
    {
     "name": "stdout",
     "output_type": "stream",
     "text": [
      "Please visit this URL to authorize this application: https://accounts.google.com/o/oauth2/auth?response_type=code&client_id=604094187418-cbh23b4v45j5b4kmmsr3r3h0ukae55r3.apps.googleusercontent.com&redirect_uri=urn%3Aietf%3Awg%3Aoauth%3A2.0%3Aoob&scope=https%3A%2F%2Fwww.googleapis.com%2Fauth%2Fyoutube.force-ssl&state=yivXGKuJpISfDNtWb26K5JwQ0v9yKB&prompt=consent&access_type=offline&code_challenge=DxiwKmUu10ahDhFCFoQULQIncTpnZvUn7HYPMWIJKqI&code_challenge_method=S256\n",
      "Enter the authorization code: 4/gwE_P4tsl_VFZQwj8knaSqHmYqczfqo1V0jGGPzH0-ciV13Tr8MqY78\n"
     ]
    }
   ],
   "source": [
    "credentials = auth_api()"
   ]
  },
  {
   "cell_type": "markdown",
   "metadata": {},
   "source": [
    "**Start Downloading**"
   ]
  },
  {
   "cell_type": "code",
   "execution_count": 112,
   "metadata": {},
   "outputs": [
    {
     "name": "stdout",
     "output_type": "stream",
     "text": [
      "['Cx5Z-OslNWE', 'YiqIkSHSmyc', 'or6C4yBk_SY', 'Xa2jPbURTjQ', 'k095NdrHxY4', 'xsP-S7yKaRA', 'rYz83XPxiZo', 'mCFkkp-QSBs', 'NcPUI7aPFhA', 'ZUU57Q3CFOU', 'Z_5uLqcwDgM', 'MuEW9pG9oxE', 'd32WV1rKoVk', 'z0ykhV15wLw', 'XhSk_Lw2X_U', 'z3SmljnD_nQ', 'AdTvkFsqcDc', '9BYsNpTCZGg', 'xaSL8yFgqig', '2K7CvGnebO0', 'nrDkb2MAwSA', 'nvXRJIBOREc', 'AeRwohPuUHQ', 'wrEcHhoJxjM', 'feb9j65Iz4w', 'k3AiUhwHQ28', 'sx00s7nYmRM', 'lZrIPRnoGQQ', 'p-bXJIa7QVI', '1pFv7e9xtHo', 'hwDRfkPSXng', 'L3-WFKCW-tY', '0Qws8BuK3RQ', 'cxTmmasBiC8', 'rZS2LGiurKY']\n"
     ]
    }
   ],
   "source": [
    "print(channelPlaylists['PLUl4u3cNGP63oMNUHXqIUcrkS2PivhN3k'])"
   ]
  },
  {
   "cell_type": "code",
   "execution_count": 124,
   "metadata": {},
   "outputs": [],
   "source": [
    "#ref https://github.com/ytdl-org/youtube-dl/blob/master/README.md#description\n",
    "def get_all_ccs(videos):\n",
    "    base_url = 'https://www.youtube.com/watch?v='\n",
    "    lang=\"en\"\n",
    "    for vid in videos:\n",
    "        print('--Downloading ' + vid)\n",
    "        url = base_url + vid\n",
    "        cmd = [\"youtube-dl\",\"--skip-download\",\"--write-sub\",\n",
    "               \"--sub-lang\",lang,url]\n",
    "        result = os.system(\" \".join(cmd))"
   ]
  },
  {
   "cell_type": "code",
   "execution_count": 148,
   "metadata": {},
   "outputs": [
    {
     "name": "stdout",
     "output_type": "stream",
     "text": [
      "-------Playlist: 1/3\n",
      "--Downloading YulNobAZgkA\n",
      "--Downloading 5s6rUYpVYjg\n",
      "--Downloading OCbC7fRsL7k\n",
      "--Downloading fFSii5VxO4I\n",
      "--Downloading xVZ-lIuIi7A\n",
      "--Downloading yHfFsuYGgaQ\n",
      "--Downloading 7Y3qcKzO_mY\n",
      "--Downloading U4zZhQz1Xqc\n",
      "--Downloading tmKD8T_Lm2I\n",
      "--Downloading Uux0VkKaoxY\n",
      "--Downloading DYJM_P4sG-c\n",
      "--Downloading qxBhW2DRnPg\n",
      "--Downloading BkCyJ6Nr7qU\n",
      "--Downloading 0AM6arPSszI\n",
      "--Downloading pgEFvhkEp-c\n",
      "--Downloading Kk7cc15gWF8\n",
      "--Downloading Tcv3_Gk1Ysg\n",
      "--Downloading yg3NGFpZr4w\n",
      "--Downloading FIef9sP-Yq8\n",
      "--Downloading oEBwIJZ3RNM\n",
      "--Downloading iGG9EG3SNz0\n",
      "--Downloading RWPfOV0CV5Y\n",
      "--Downloading 9lc7mxULRF0\n",
      "--Downloading UOoKUdjVP78\n",
      "--Downloading aY8iTiAfRzs\n",
      "--Downloading omqSBV--uQ4\n",
      "--Downloading GZzrMyY01tE\n",
      "--Downloading 41ee6EsHchA\n",
      "--Downloading papfq4sdC3w\n",
      "--Downloading 868odGqmB1E\n",
      "--Downloading gRlrh4lRapM\n",
      "--Downloading Ug0HxeKGC8s\n",
      "--Downloading a4Qtf5D0rso\n",
      "--Downloading MtK9rIbdlis\n",
      "--Downloading YT4ODWpKmGY\n",
      "--Downloading gXj4irGhxuo\n",
      "--Downloading BTru_P0ruYQ\n",
      "--Downloading 2N0OXAiX-BM\n",
      "--Downloading gX2y3PHMmnk\n",
      "--Downloading 8Uh0qSp_Vck\n",
      "--Downloading o10QADeeK04\n",
      "--Downloading ZzUkt-UQCX8\n",
      "--Downloading vK7T72HPQ10\n",
      "--Downloading VaBMK5JSz2I\n",
      "--Downloading YWxY6mZwRSQ\n",
      "--Downloading NjhuAak0jmM\n",
      "--Downloading 6CeljmHgd0w\n",
      "--Downloading KbAgNwrpUTw\n",
      "--Downloading G-5KHKrNPMs\n",
      "--Downloading zUHOeWom7qs\n",
      "-------Playlist: 2/3\n",
      "--Downloading uc4xJsi99bk\n",
      "--Downloading l2SjUREZk0c\n",
      "--Downloading y_CA5btuoQk\n",
      "--Downloading Wj0oH3ehk18\n",
      "--Downloading 98X2TyxXQdU\n",
      "--Downloading Nv3C7q88MqA\n",
      "--Downloading CMbvq16z0gA\n",
      "--Downloading UsGBIfjUK7U\n",
      "--Downloading pWXh5t-37Qg\n",
      "--Downloading hV5af_07ToE\n",
      "--Downloading VOlbVNxyNfM\n",
      "--Downloading tMVwXglUp60\n",
      "--Downloading v1AQ8Yi3yB8\n",
      "--Downloading Bk5y6Elcy_Q\n",
      "--Downloading E7oR_JBgUzA\n",
      "--Downloading 13UPhn32Mjs\n",
      "--Downloading 1cejTnuMo1Y\n",
      "--Downloading LUdI4-YCIh8\n",
      "--Downloading zsKdRjP91Fs\n",
      "--Downloading ycO0Vn_w9Q0\n",
      "--Downloading QKXAd2PhZGY\n",
      "--Downloading bnhIRhnBa1A\n",
      "--Downloading bo8SFHppXZk\n",
      "--Downloading owkMzpN8WDc\n",
      "--Downloading apzEJCsycVM\n",
      "--Downloading LpW6zanbSf8\n",
      "--Downloading dGKvUUmMGoU\n",
      "--Downloading rUis1mSzwyA\n",
      "--Downloading e4cURLXGjrM\n",
      "--Downloading QEBkT-Pgqos\n",
      "--Downloading oTTo3qP0Z-I\n",
      "--Downloading al2lzKq4o5E\n",
      "--Downloading BSqNgPkeWIM\n",
      "--Downloading 19x213y_uk4\n",
      "--Downloading FK1n3TVQIhc\n",
      "--Downloading 2_7htv5eviM\n",
      "--Downloading zcuYFf5R0NU\n",
      "-------Playlist: 3/3\n",
      "--Downloading IKJJ1SiMbjg\n",
      "--Downloading CA7I2GLpgdo\n",
      "--Downloading U_dpm7SCIpg\n",
      "--Downloading wtyVfNC_5ms\n",
      "--Downloading p6isgsReWmI\n",
      "--Downloading YwKqzngTcLw\n",
      "--Downloading yg4M2xmY4bs\n",
      "--Downloading b7SDngGtNDs\n",
      "--Downloading FYJJHMLv9oM\n",
      "--Downloading 0oqHExM3_Ko\n",
      "--Downloading j9DVXVwVyc4\n"
     ]
    }
   ],
   "source": [
    "count_playlists = 0\n",
    "for playlist in remainingPlaylists:\n",
    "    count_playlists += 1\n",
    "    print('-------Playlist: '+str(count_playlists)+'/'+str(len(remainingPlaylists)))\n",
    "    get_all_ccs(remainingPlaylists[playlist])"
   ]
  },
  {
   "cell_type": "code",
   "execution_count": 151,
   "metadata": {},
   "outputs": [
    {
     "data": {
      "text/plain": [
       "2614"
      ]
     },
     "execution_count": 151,
     "metadata": {},
     "output_type": "execute_result"
    }
   ],
   "source": [
    "filenames_vtt = [os.fsdecode(file) for file in os.listdir(os.getcwd()) if os.fsdecode(file).endswith(\".vtt\")]\n",
    "#Check file names\n",
    "len(filenames_vtt)"
   ]
  },
  {
   "cell_type": "code",
   "execution_count": 153,
   "metadata": {},
   "outputs": [],
   "source": [
    "for playlist in channelPlaylists:\n",
    "    if(os.path.exists('downloaded_transcripts/' + playlist + '/') == False):\n",
    "        os.mkdir('downloaded_transcripts/' + playlist + '/')"
   ]
  },
  {
   "cell_type": "code",
   "execution_count": 165,
   "metadata": {},
   "outputs": [],
   "source": [
    "#concatenate channelPlaylists and remainingPlaylists\n",
    "for playlist in remainingPlaylists:\n",
    "    channelPlaylists[playlist] += remainingPlaylists[playlist]"
   ]
  },
  {
   "cell_type": "code",
   "execution_count": 170,
   "metadata": {},
   "outputs": [],
   "source": [
    "for file in filenames_vtt:\n",
    "    for playlist in channelPlaylists:\n",
    "        for videoId in channelPlaylists[playlist]:\n",
    "            if(file[-18:-7] == videoId):\n",
    "                try:\n",
    "                    os.rename(file, \"downloaded_transcripts/\" + playlist + \"/\" + file)\n",
    "                except:\n",
    "                    continue\n",
    "                continue"
   ]
  },
  {
   "cell_type": "code",
   "execution_count": null,
   "metadata": {},
   "outputs": [],
   "source": []
  },
  {
   "cell_type": "code",
   "execution_count": null,
   "metadata": {},
   "outputs": [],
   "source": []
  }
 ],
 "metadata": {
  "kernelspec": {
   "display_name": "Python 3",
   "language": "python",
   "name": "python3"
  },
  "language_info": {
   "codemirror_mode": {
    "name": "ipython",
    "version": 3
   },
   "file_extension": ".py",
   "mimetype": "text/x-python",
   "name": "python",
   "nbconvert_exporter": "python",
   "pygments_lexer": "ipython3",
   "version": "3.7.3"
  }
 },
 "nbformat": 4,
 "nbformat_minor": 2
}
